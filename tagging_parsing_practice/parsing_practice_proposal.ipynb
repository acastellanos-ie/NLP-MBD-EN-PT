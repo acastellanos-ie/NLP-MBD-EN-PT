{
  "nbformat": 4,
  "nbformat_minor": 0,
  "metadata": {
    "kernelspec": {
      "display_name": "Python 3",
      "language": "python",
      "name": "python3"
    },
    "language_info": {
      "codemirror_mode": {
        "name": "ipython",
        "version": 3
      },
      "file_extension": ".py",
      "mimetype": "text/x-python",
      "name": "python",
      "nbconvert_exporter": "python",
      "pygments_lexer": "ipython3",
      "version": "3.8.5"
    },
    "colab": {
      "name": "parsing_practice_proposal.ipynb",
      "provenance": [],
      "include_colab_link": true
    }
  },
  "cells": [
    {
      "cell_type": "markdown",
      "metadata": {
        "id": "view-in-github",
        "colab_type": "text"
      },
      "source": [
        "<a href=\"https://colab.research.google.com/github/acastellanos-ie/NLP-MBD-EN-BL-ENE-2021-J-1/blob/main/tagging_parsing_practice/parsing_practice_proposal.ipynb\" target=\"_parent\"><img src=\"https://colab.research.google.com/assets/colab-badge.svg\" alt=\"Open In Colab\"/></a>"
      ]
    },
    {
      "cell_type": "markdown",
      "metadata": {
        "id": "LCvwbQnTvBRh"
      },
      "source": [
        "# Google Colab Configuration\n",
        "\n",
        "**Execute this steps to configure the Google Colab environment in order to execute this notebook. It is not required if you are executing it locally and you have properly configured your local environment according to what explained in the Github Repository.**\n",
        "\n",
        "The first step is to clone the repository to have access to all the data and files"
      ]
    },
    {
      "cell_type": "code",
      "source": [
        "repository_name = \"NLP-MBD-EN-BL-ENE-2021-J-1\"\n",
        "repository_url = 'https://github.com/acastellanos-ie/' + repository_name"
      ],
      "metadata": {
        "id": "gakj_n0h70ox"
      },
      "execution_count": null,
      "outputs": []
    },
    {
      "cell_type": "code",
      "metadata": {
        "outputId": "e5cb877b-fee1-4be7-f1bf-343f2fba42a7",
        "colab": {
          "base_uri": "https://localhost:8080/"
        },
        "id": "TqjOC6GS8Rsp"
      },
      "source": [
        "! git clone $repository_url"
      ],
      "execution_count": null,
      "outputs": [
        {
          "output_type": "stream",
          "text": [
            "Cloning into 'MBD-EN-BL-ENE-2020-J-1'...\n",
            "remote: Enumerating objects: 4481, done.\u001b[K\n",
            "remote: Counting objects: 100% (4481/4481), done.\u001b[K\n",
            "remote: Compressing objects: 100% (4368/4368), done.\u001b[K\n",
            "remote: Total 4481 (delta 158), reused 4387 (delta 94), pack-reused 0\u001b[K\n",
            "Receiving objects: 100% (4481/4481), 13.41 MiB | 19.53 MiB/s, done.\n",
            "Resolving deltas: 100% (158/158), done.\n"
          ],
          "name": "stdout"
        }
      ]
    },
    {
      "cell_type": "markdown",
      "metadata": {
        "id": "_g0RwZwf8Rsq"
      },
      "source": [
        "Install the requirements"
      ]
    },
    {
      "cell_type": "code",
      "metadata": {
        "outputId": "d45eba5a-9325-44ed-ae93-ebf4493fa51a",
        "colab": {
          "base_uri": "https://localhost:8080/"
        },
        "id": "J5nl0QGe8Rsq"
      },
      "source": [
        "! pip install -Uqqr $repository_name/requirements.txt"
      ],
      "execution_count": null,
      "outputs": [
        {
          "output_type": "stream",
          "text": [
            "\u001b[K     |████████████████████████████████| 1.5MB 9.5MB/s \n",
            "\u001b[K     |████████████████████████████████| 10.4MB 1.4MB/s \n",
            "\u001b[K     |████████████████████████████████| 12.0MB 170kB/s \n",
            "\u001b[K     |████████████████████████████████| 9.9MB 42.9MB/s \n",
            "\u001b[K     |████████████████████████████████| 348kB 44.6MB/s \n",
            "\u001b[K     |████████████████████████████████| 204kB 49.0MB/s \n",
            "\u001b[K     |████████████████████████████████| 727kB 24.7MB/s \n",
            "\u001b[K     |████████████████████████████████| 454.3MB 35kB/s \n",
            "\u001b[K     |████████████████████████████████| 25.3MB 1.4MB/s \n",
            "\u001b[K     |████████████████████████████████| 81kB 10.3MB/s \n",
            "\u001b[K     |████████████████████████████████| 2.3MB 29.5MB/s \n",
            "\u001b[K     |████████████████████████████████| 1.8MB 36.5MB/s \n",
            "\u001b[K     |████████████████████████████████| 1.1MB 58.0MB/s \n",
            "\u001b[K     |████████████████████████████████| 61kB 8.6MB/s \n",
            "\u001b[K     |████████████████████████████████| 51kB 7.1MB/s \n",
            "\u001b[K     |████████████████████████████████| 1.2MB 52.9MB/s \n",
            "\u001b[K     |████████████████████████████████| 4.0MB 33.6MB/s \n",
            "\u001b[K     |████████████████████████████████| 6.0MB 26.3MB/s \n",
            "\u001b[K     |████████████████████████████████| 471kB 53.6MB/s \n",
            "\u001b[K     |████████████████████████████████| 1.2MB 44.4MB/s \n",
            "\u001b[K     |████████████████████████████████| 4.0MB 23.7MB/s \n",
            "\u001b[K     |████████████████████████████████| 983kB 57.4MB/s \n",
            "\u001b[K     |████████████████████████████████| 266kB 22.8MB/s \n",
            "\u001b[K     |████████████████████████████████| 471kB 42.8MB/s \n",
            "\u001b[K     |████████████████████████████████| 3.3MB 23.1MB/s \n",
            "\u001b[K     |████████████████████████████████| 901kB 45.5MB/s \n",
            "\u001b[K     |████████████████████████████████| 51kB 7.1MB/s \n",
            "\u001b[K     |████████████████████████████████| 4.9MB 37.5MB/s \n",
            "\u001b[?25h  Building wheel for en-core-web-sm (setup.py) ... \u001b[?25l\u001b[?25hdone\n",
            "  Building wheel for ktrain (setup.py) ... \u001b[?25l\u001b[?25hdone\n",
            "  Building wheel for eli5 (setup.py) ... \u001b[?25l\u001b[?25hdone\n",
            "  Building wheel for stellargraph (setup.py) ... \u001b[?25l\u001b[?25hdone\n",
            "  Building wheel for networkx (setup.py) ... \u001b[?25l\u001b[?25hdone\n",
            "  Building wheel for langdetect (setup.py) ... \u001b[?25l\u001b[?25hdone\n",
            "  Building wheel for syntok (setup.py) ... \u001b[?25l\u001b[?25hdone\n",
            "  Building wheel for seqeval (setup.py) ... \u001b[?25l\u001b[?25hdone\n",
            "  Building wheel for keras-bert (setup.py) ... \u001b[?25l\u001b[?25hdone\n",
            "  Building wheel for keras-transformer (setup.py) ... \u001b[?25l\u001b[?25hdone\n",
            "  Building wheel for keras-pos-embd (setup.py) ... \u001b[?25l\u001b[?25hdone\n",
            "  Building wheel for keras-multi-head (setup.py) ... \u001b[?25l\u001b[?25hdone\n",
            "  Building wheel for keras-layer-normalization (setup.py) ... \u001b[?25l\u001b[?25hdone\n",
            "  Building wheel for keras-position-wise-feed-forward (setup.py) ... \u001b[?25l\u001b[?25hdone\n",
            "  Building wheel for keras-embed-sim (setup.py) ... \u001b[?25l\u001b[?25hdone\n",
            "  Building wheel for keras-self-attention (setup.py) ... \u001b[?25l\u001b[?25hdone\n",
            "\u001b[31mERROR: tensorflow 2.4.1 has requirement gast==0.3.3, but you'll have gast 0.4.0 which is incompatible.\u001b[0m\n",
            "\u001b[31mERROR: tensorflow 2.4.1 has requirement grpcio~=1.32.0, but you'll have grpcio 1.34.1 which is incompatible.\u001b[0m\n",
            "\u001b[31mERROR: tensorflow 2.4.1 has requirement h5py~=2.10.0, but you'll have h5py 3.1.0 which is incompatible.\u001b[0m\n",
            "\u001b[31mERROR: tensorflow 2.4.1 has requirement tensorflow-estimator<2.5.0,>=2.4.0, but you'll have tensorflow-estimator 2.5.0 which is incompatible.\u001b[0m\n",
            "\u001b[31mERROR: google-colab 1.0.0 has requirement pandas~=1.1.0; python_version >= \"3.0\", but you'll have pandas 1.2.4 which is incompatible.\u001b[0m\n",
            "\u001b[31mERROR: albumentations 0.1.12 has requirement imgaug<0.2.7,>=0.2.5, but you'll have imgaug 0.2.9 which is incompatible.\u001b[0m\n",
            "\u001b[31mERROR: ktrain 0.26.2 has requirement scikit-learn==0.23.2, but you'll have scikit-learn 0.22.2.post1 which is incompatible.\u001b[0m\n",
            "\u001b[31mERROR: ktrain 0.26.2 has requirement transformers<=4.3.3,>=4.0.0, but you'll have transformers 4.6.0 which is incompatible.\u001b[0m\n"
          ],
          "name": "stdout"
        }
      ]
    },
    {
      "cell_type": "markdown",
      "metadata": {
        "id": "JHDzMQwpyODo"
      },
      "source": [
        "Now you have everything you need to execute the code in Colab"
      ]
    },
    {
      "cell_type": "markdown",
      "metadata": {
        "id": "YUQ6Xrgeu1_I"
      },
      "source": [
        "# Parsing Practice\n",
        "\n",
        "The purpose of this practical session is to gain more insight into using parsers and grammars and to get familiarized with the tools provided to this end by NLTK.\n",
        "\n",
        "**Our goals are to:**\n",
        "\n",
        "- Understand the process of parsing better by doing some examples by hand.\n",
        "- Gain insight into grammars by writing a grammar of our own.\n",
        "- Experiment with training a grammar from a corpus and evaluating it.\n",
        "\n",
        "**The practical session is organized in four sections:**\n",
        "\n",
        "- The warm-up, where you are going to use a given toy grammar to generate parse trees and get a chance to compare your intuition with the results provided by the NLTK parsers.\n",
        "- Then, you will need to design and test your own grammar, again, for a small example.\n",
        "- Next, you will automatically extract a grammar from a corpus of annotated sentences.\n",
        "- Finally, you are going to explore ways to improve automatically extracted grammars, through error analysis.\n",
        "\n",
        "Before diving in, it would be useful to have a look at how NLTK handles parsing. At the end of the Notebook, you will find a summary of the most useful commands. For more helpful explanations and examples, feel free to consult the [Chapter 8 of the NLTK Book](https://www.nltk.org/book/ch08.html), along with the chapter extras.\n"
      ]
    },
    {
      "cell_type": "markdown",
      "metadata": {
        "id": "KFI6j5JJu1_Q"
      },
      "source": [
        "# Exercise 0\n",
        "\n",
        "Have a look at the texts and at the grammar below."
      ]
    },
    {
      "cell_type": "markdown",
      "metadata": {
        "id": "HuA3lCDXu1_R"
      },
      "source": [
        "### Input texts:\n",
        "\n",
        "    I saw an elephant\n",
        "    I saw an elephant in my pajamas\n",
        "\n",
        "### Grammar:                \n",
        "\n",
        "    S   -> NP VP     [1.0]\n",
        "    PP  -> P NP      [1.0]\n",
        "    NP  -> Det N     [0.4]\n",
        "    NP  -> Det N PP  [0.2]\n",
        "    VP  -> V NP      [0.5]\n",
        "    VP  -> VP PP     [0.5]\n",
        "\n",
        "    NP  -> 'I'        [0.4]\n",
        "    Det -> 'an'       [0.5]\n",
        "    Det -> 'my'       [0.5]\n",
        "    N   -> 'elephant' [0.5]\n",
        "    N   -> 'pajamas'  [0.5]\n",
        "    V   -> 'saw'      [1.0]\n",
        "    P   -> 'in'       [1.0]\n",
        "\n",
        "\n",
        "\n",
        "1.- Load the previous grammar by means of the `fromstring` method of the `PCFG` class.\n",
        "\n",
        "2.- Using this grammar, try to parse the sample sentences with the NLTK `ChartParser` and then with the  NLTK `Viterbi` parser. This parsers covers the two methodologies that we explained in class. The `ChartParser` does not care about probabilities; it just try to find all the possible parses (trees) that fit the sentence. In contrast, Viterbi is a Dynamic Programming algorithm (very similar to the CKY algorithm that we explained in class) that tries to recursively find the best parse (tree) for the sentence, based on the probabilities defined by the grammar.\n",
        "\n",
        "3.- Examine the output of the parsers. Is there any difference?\n",
        "\n",
        "4.- Using the NLTK GUI, draw the most probable parse trees found by the NLTK parsers and compare them. \n",
        "\n",
        "How are they different?\n",
        "Do they differ only in the names of the nonterminals use, or is a structural difference as well?\n",
        "Why do you think these differences occur?\n",
        "\n"
      ]
    },
    {
      "cell_type": "markdown",
      "metadata": {
        "id": "oNwewG8au1_S"
      },
      "source": [
        "# Solution 0"
      ]
    },
    {
      "cell_type": "code",
      "metadata": {
        "id": "mRL2xRPou1_S",
        "outputId": "1793a630-4d32-4be0-ef4b-82ee9bcbcd5a",
        "colab": {
          "base_uri": "https://localhost:8080/"
        }
      },
      "source": [
        "import nltk\n",
        "nltk.download(\"punkt\")\n",
        "from nltk.tree import *\n",
        "from nltk.draw import tree\n",
        " \n",
        "# Grammar creation/loading\n",
        "grammar = nltk.PCFG.fromstring(\"\"\"\n",
        "S -> NP VP \t[1.0]\n",
        "PP -> P NP \t[1.0]\n",
        "NP -> Det N \t[0.4]\n",
        "NP -> Det N PP \t[0.2] \n",
        "NP -> 'I' \t[0.4]\n",
        "VP -> V NP \t[0.5]\n",
        "VP -> VP PP \t[0.5]\n",
        "Det -> 'an' \t[0.5] \n",
        "Det -> 'my' \t[0.5]\n",
        "N -> 'elephant' [0.5] \n",
        "N ->  'pajamas' [0.5]\n",
        "V -> 'saw' \t[1.0]\n",
        "P -> 'in' \t[1.0]\n",
        "\"\"\")\n",
        " \n",
        "# Import example sentences to NLTK and tokenize them\n",
        "str_sentence1 = \"I saw an elephant\"\n",
        "str_sentence2 = \"I saw an elephant in my pajamas\"\n",
        " \n",
        "print(\"Example sentences\")\n",
        "print(str_sentence1)\n",
        "print(str_sentence2)\n",
        "\n",
        "# Tokenize the sentences\n",
        "tokens1 = nltk.word_tokenize(str_sentence1)\n",
        "tokens2 = nltk.word_tokenize(str_sentence2)\n",
        " \n",
        "# Create the Chart and Viterbi parsers, with the input grammar \n",
        "chart_parser = nltk.ChartParser(grammar)\n",
        "viterbi_parser = nltk.ViterbiParser(grammar)\n",
        " \n",
        "# Results for the Chart Parser\n",
        "print(\"Parse trees obtained with the Chart parser\")\n",
        "print(\"Sentence:\", str_sentence1)\n",
        "for tree in chart_parser.parse(tokens1):\n",
        "    print(tree)\n",
        "print()\n",
        "\n",
        "print(\"Sentence:\", str_sentence2)\n",
        "for tree in chart_parser.parse(tokens2):\n",
        "    print(tree)\n",
        "print(\"**\" * 30)\n",
        "\n",
        "# Results for the Viterbi Parser\n",
        "print(\"Parse trees obtained with the Viterbi parser\")\n",
        "print(\"Sentence 1\")\n",
        "for tree in viterbi_parser.parse(tokens1):\n",
        "    print(tree)\n",
        "print()\n",
        "\n",
        "print(\"Sentence 2\")\n",
        "for tree in viterbi_parser.parse(tokens2):\n",
        "    print(tree)\n"
      ],
      "execution_count": null,
      "outputs": [
        {
          "output_type": "stream",
          "text": [
            "Example sentences\n",
            "I saw an elephant\n",
            "I saw an elephant in my pajamas\n",
            "Parse trees obtained with the Chart parser\n",
            "Sentence: I saw an elephant\n",
            "(S (NP I) (VP (V saw) (NP (Det an) (N elephant))))\n",
            "\n",
            "Sentence: I saw an elephant in my pajamas\n",
            "(S\n",
            "  (NP I)\n",
            "  (VP\n",
            "    (VP (V saw) (NP (Det an) (N elephant)))\n",
            "    (PP (P in) (NP (Det my) (N pajamas)))))\n",
            "(S\n",
            "  (NP I)\n",
            "  (VP\n",
            "    (V saw)\n",
            "    (NP (Det an) (N elephant) (PP (P in) (NP (Det my) (N pajamas))))))\n",
            "************************************************************\n",
            "Parse trees obtained with the Viterbi parser\n",
            "Sentence 1\n",
            "(S (NP I) (VP (V saw) (NP (Det an) (N elephant)))) (p=0.02)\n",
            "\n",
            "Sentence 2\n",
            "(S\n",
            "  (NP I)\n",
            "  (VP\n",
            "    (V saw)\n",
            "    (NP\n",
            "      (Det an)\n",
            "      (N elephant)\n",
            "      (PP (P in) (NP (Det my) (N pajamas)))))) (p=0.001)\n"
          ],
          "name": "stdout"
        },
        {
          "output_type": "stream",
          "text": [
            "[nltk_data] Downloading package punkt to /root/nltk_data...\n",
            "[nltk_data]   Package punkt is already up-to-date!\n"
          ],
          "name": "stderr"
        }
      ]
    },
    {
      "cell_type": "markdown",
      "metadata": {
        "id": "aDUQsZ_Vu1_U"
      },
      "source": [
        "We can notice that for the first sentence, the two the parsers agree on the result. This is due to the more simple structure of the sentence. \n",
        "\n",
        "For the second sentence, the `ChartParser` finds two parse trees, while the `Viterbi` parser outputs only one result. This occurs because the `Viterbi` parser only computes the most probable parse of the sentences, while the `ChartParser` is not concerned with the probabilities and it searches for all parse possibilities. In this case, we can notice that the most probable parse for the second sentence is the second parse produced by the Chart parser.\n"
      ]
    },
    {
      "cell_type": "markdown",
      "metadata": {
        "id": "r_e80ddYu1_V"
      },
      "source": [
        "# Exercise 1"
      ]
    },
    {
      "cell_type": "markdown",
      "metadata": {
        "id": "p50QZU5fu1_W"
      },
      "source": [
        "You are given  the following sentences:\n",
        "\n",
        "    Alice wondered with Bob in the empty city streets\n",
        "    Bob offered Alice an iguana for her birthday\n",
        "    Alice gave an inspiring speech at the conference on education\n"
      ]
    },
    {
      "cell_type": "markdown",
      "metadata": {
        "id": "2oOEHvAMu1_W"
      },
      "source": [
        "**1. Design a non-probabilistic context-free grammar for parsing these sentences and then manually provide the parse tree(s) for these sentences. Here is a list of lexical rules and syntactic categories that you could use to devise the grammar:**\n",
        "    \n",
        "        Lexical rules:\n",
        "\n",
        "        V    -> 'wondered' | 'offered' | 'gave'\n",
        "        NP   -> 'Alice' | 'Bob'\n",
        "        N    -> 'city' | 'streets' | 'iguana' | 'birthday' | 'speech' | 'conference' | 'education'\n",
        "        Adj  -> 'empty' | 'inspiring'\n",
        "        Det  -> 'the' | 'an' | 'her'\n",
        "        Prep -> 'with' | 'in' | 'for' | 'at' | 'on'\n",
        "        Suggested syntactic categories (non-terminals):\n",
        "\n",
        "        S - Sentence \n",
        "        NP - Noun Phrase \n",
        "        VP - Verb Phrase \n",
        "        PNP - Prepositional Noun Phrase"
      ]
    },
    {
      "cell_type": "code",
      "metadata": {
        "id": "wsOCztq4u1_X"
      },
      "source": [
        "grammar = nltk.CFG.fromstring(\n",
        "# Your grammar here\n",
        ")"
      ],
      "execution_count": null,
      "outputs": []
    },
    {
      "cell_type": "markdown",
      "metadata": {
        "id": "ICQ-3DK0u1_X"
      },
      "source": [
        "**2. With the grammar you designed in point (1.), parse the above sentences using NLTK’s Chart parser, described in Section 1.**\n"
      ]
    },
    {
      "cell_type": "code",
      "metadata": {
        "id": "MhN4a4Vgu1_Y"
      },
      "source": [
        "str_sentence1 = \"Alice wondered with Bob in the empty city streets\"\n",
        "str_sentence2 = \"Bob offered Alice an iguana for her birthday\"\n",
        "str_sentence3 = \"Alice gave an inspiring speech at the conference on education\"\n",
        "\n",
        "# Sentence parsing"
      ],
      "execution_count": null,
      "outputs": []
    },
    {
      "cell_type": "markdown",
      "metadata": {
        "id": "pFNKb6qPu1_Y"
      },
      "source": [
        "**3. Display and compare the parse trees obtained in points (1.) and (2.).**"
      ]
    },
    {
      "cell_type": "code",
      "metadata": {
        "id": "Tg4GuYcou1_Y"
      },
      "source": [
        "chart_parser = nltk.ChartParser(grammar)\n",
        "\n",
        "# User the chart parser object to print the trees"
      ],
      "execution_count": null,
      "outputs": []
    },
    {
      "cell_type": "markdown",
      "metadata": {
        "id": "agM-RfNlu1_Z"
      },
      "source": [
        "# Exercise 2: Extracting a Grammar from a Corpus\n",
        "\n",
        "We have designed very simple grammars in the previous exercises. Even for these very small examples, designing grammars are time consuming and does not necessarily have the best results. \n",
        "\n",
        "In this exericse, we explore a different approach to creating grammars: **automatic extraction from annotated texts**.\n",
        "\n",
        "We start from an annotated text: the `Treebank corpus` from the NLTK framework, which includes a small subset (5% fragment) of the `Penn Treebank Corpus`. It contains data from `Wall Street Journal` for 1650 sentences:\n",
        "\n",
        "    ( (S\n",
        "        (NP-SBJ\n",
        "          (NP (NNP Pierre) (NNP Vinken) )\n",
        "          (, ,)\n",
        "          (ADJP\n",
        "            (NP (CD 61) (NNS years) )\n",
        "            (JJ old) )\n",
        "          (, ,) )\n",
        "        (VP (MD will)\n",
        "          (VP (VB join)\n",
        "            (NP (DT the) (NN board) )\n",
        "            (PP-CLR (IN as)\n",
        "              (NP (DT a) (JJ nonexecutive) (NN director) ))\n",
        "            (NP-TMP (NNP Nov.) (CD 29) )))\n",
        "        (. .) ))\n",
        "        \n",
        "     \n",
        "The goal is to automatically extract the CFG out of the treebank and then to evaluate and improve the extracted grammar. "
      ]
    },
    {
      "cell_type": "markdown",
      "metadata": {
        "id": "P_MnD71Bu1_Z"
      },
      "source": [
        "**1. First, split the corpus into two parts : one for learning the grammar (training set) and one for evaluating it (test set). For the sake of saving time during this practical session, use 3% of the total number of sentences for the test set. Here is how you could make the split.**\n",
        "\n",
        "        dataset_size = len(treebank.parsed_sents())\n",
        "\n",
        "        ## here, we define the split percentage for the training set and the\n",
        "        ## learning set, in our case ~3% and ~97%\n",
        "\n",
        "        split_size = int(dataset_size * 0.97)\n",
        "        learning_set = treebank.parsed_sents()[:split_size]\n",
        "        test_set = treebank.parsed_sents()[split_size:]\n",
        "\n",
        "   Note that `test_set`  already contains the parses of the sentences. This is what we are going to compare against, in order to assess the quality of the extracted grammar. In addition, we need the raw (not parsed)  format of the sentences in the test set. These raw sentences will be parsed with the extracted grammar and then compared against the reference, stored in test_set.\n",
        "\n",
        "        # create a set containing the raw sentences\n",
        "        sents = treebank.sents()\n",
        "        raw_test_set = [ [ w for w in sents[i] ] for i in range(split_size, dataset_size) ]\n",
        "    \n",
        "**Extract the grammar out of the learning corpus** At this point, it might be useful to have another look at the commands provided in the end of the document. Here is a suggestion on how to do it. Note that we still need the entire lexicon (i.e. rules of the type POS -> word) even though the syntactic rules are extracted from only a portion of the treebank. Assume that you have already separated the learning set from the test set and that the learning set is stored in the  learning_set  variable.\n",
        "\n",
        "        # This is where we will store all of the productions necessary to\n",
        "        # construct the PCFG.\n",
        "        tbank_productions = []\n",
        "\n",
        "        # For all of the (parsed) sentences in the learning set, extract the\n",
        "        # productions (i.e. extract the rules).\n",
        "        for sent in learning_set:\n",
        "            for production in sent.productions():\n",
        "                tbank_productions.append(production)\n",
        "\n",
        "        # Now, we will add the lexical rules for the ENTIRE lexicon.\n",
        "        for word, tag in treebank.tagged_words():\n",
        "\n",
        "            # for each tagged word, we create a tree containing that\n",
        "            # lexical rule, in order to be able to add it to our\n",
        "            # production set tbank_productions.\n",
        "\n",
        "            t = Tree.fromstring(\"(\"+ tag + \" \" + word  +\")\")\n",
        "            for production in t.productions():\n",
        "                tbank_productions.append(production)\n",
        "\n",
        "        # At this point, we have the syntactic rules extracted from the\n",
        "        # learning set and all of the lexical rules. We are ready to extract\n",
        "        # the PCFG.\n",
        "        tbank_grammar = nltk.grammar.induce_pcfg(Nonterminal('S'), tbank_productions)\n",
        "        \n",
        "Try to have a look at the grammar. How many rules are there? Imagine you would have to correct it, for instance. You certainly will come to the conclusion that this is not feasible. Indeed, in such a framework (automated extraction) the grammars should not  be modified by hand (maybe not even read), but only the corpus has to be changed/corrected/extended."
      ]
    },
    {
      "cell_type": "markdown",
      "metadata": {
        "id": "JXfjFZ1wu1_a"
      },
      "source": [
        "Before executing the code you need to install the pre-trained parsing models"
      ]
    },
    {
      "cell_type": "code",
      "metadata": {
        "id": "1Mi0SZ4_u1_a",
        "outputId": "691471b3-1c19-44e0-964e-e90eec41698c",
        "colab": {
          "base_uri": "https://localhost:8080/"
        }
      },
      "source": [
        "nltk.download('treebank')"
      ],
      "execution_count": null,
      "outputs": [
        {
          "output_type": "stream",
          "text": [
            "[nltk_data] Downloading package treebank to /root/nltk_data...\n",
            "[nltk_data]   Unzipping corpora/treebank.zip.\n"
          ],
          "name": "stderr"
        },
        {
          "output_type": "execute_result",
          "data": {
            "text/plain": [
              "True"
            ]
          },
          "metadata": {
            "tags": []
          },
          "execution_count": 14
        }
      ]
    },
    {
      "cell_type": "code",
      "metadata": {
        "id": "Y_QZUYSYu1_a"
      },
      "source": [
        "# Your code here"
      ],
      "execution_count": null,
      "outputs": []
    },
    {
      "cell_type": "markdown",
      "metadata": {
        "id": "NjgeXy0xu1_b"
      },
      "source": [
        "**2. Evaluate the performance of the grammars on the test set (the 3% of the sentences from the treebank that you isolated in the beginning of the exercise). What proportion of sentences from the test set have been parsed as in the reference (i.e. are correctly parsed) by the extracted grammar?**"
      ]
    },
    {
      "cell_type": "code",
      "metadata": {
        "id": "udCrbbEQu1_b"
      },
      "source": [
        "# From the created gramar, you create a parser to annotate new sentences\n",
        "print(\"Initializing parser\")\n",
        "parser = nltk.ViterbiParser(tbank_grammar) # http://www.nltk.org/_modules/nltk/parse/viterbi.html\n",
        "\n",
        "\n",
        "# Test the extracted grammar with the Viterbi parser on one sentence.\n",
        "# The Viterbi parser gives the most probable parse tree\n",
        "# Test all sentences in the test-set and compare them to the reference parsing\n",
        "for i in range(0, len(raw_test_set)):\n",
        "    print(\"==== Parsing sentence \" + str(i))\n",
        "    test_sent = raw_test_set[i]\n",
        "    # This will raise an exception if the tokens in the test_sentence\n",
        "    # are not covered by the grammar; should not happen.\n",
        "    tbank_grammar.check_coverage(test_sent)\n",
        "    print(test_sent)\n",
        "    print(\"[\" + str(i) + \"] Reference parse:\")\n",
        "    print(test_set[i])\n",
        "    print(\"[\" + str(i) + \"] Parse trees:\")\n",
        "    # Your code here: With parser.parse(test_sent)\n"
      ],
      "execution_count": null,
      "outputs": []
    },
    {
      "cell_type": "markdown",
      "metadata": {
        "id": "vY2pI3BGu1_b"
      },
      "source": [
        "**3. We now want to study the size of the grammar with respect to the size of the learning set. Split the former learning set (i.e. the 95%  of the treebank) into two parts: one kept for actual learning and another part which is not used. Do this for several percentages of the learning set (10%, 50%, 70%, 80%, 90%, 100%), several times for each ratio. H ave a look at the resulting grammars and try to understand their differences.**"
      ]
    },
    {
      "cell_type": "markdown",
      "metadata": {
        "id": "7AtT_Zobu1_c"
      },
      "source": [
        "### Useful NLTK commands\n",
        "\n",
        "Grammar creation from a given string:\n",
        "\n",
        "    g = nltk.CFG.fromstring(\"\"\"<grammar rules here>\"\"\")\n",
        "\n",
        "Tokenize a sentence:\n",
        "\n",
        "    tokens = nltk.word_tokenize(\"<sentence>\")\n",
        "    \n",
        "Create different types of parsers starting from a grammar:\n",
        "\n",
        "    chart_parser   = nltk.ChartParser(g)\n",
        "    viterbi_parser = nltk.ViterbiParser(g)\n",
        "\n",
        "Parse a tokenized text:\n",
        "\n",
        "    trees = viterbi_parser.parse(tokens) #for example, for the Viterbi parser\n",
        "\n",
        "Display the parse trees: \n",
        "\n",
        "[ If not done yet, you first need to install this library: \n",
        "http://tkinter.unpythonic.net/wiki/How_to_install_Tkinter \n",
        "]\n",
        "\n",
        "The command below will generate a popup window, containing the graphical representation of the tree; while the parse tree drawing window is open, your script will be paused. The script will be resumed when you close the window.\n",
        "\n",
        "    from nltk.tree import *\n",
        "    from nltk.draw import tree\n",
        "    tree.draw()"
      ]
    },
    {
      "cell_type": "markdown",
      "metadata": {
        "id": "HqhHhn4Bu1_c"
      },
      "source": [
        "# Additional Materials: Practical Parsing"
      ]
    },
    {
      "cell_type": "markdown",
      "metadata": {
        "id": "z5JG7iEcu1_c"
      },
      "source": [
        "NLTK provide us a nice way to create our own grammars, as well as to train them based on an annotated dataset.\n",
        "\n",
        "Nevertheless, as happens with Tagging, most of the times the pre-train modules are enough to solve most of our situation.\n",
        "\n",
        "My recommendation is to use either [`spacy`](https://spacy.io/) or [`Stanford CoreNLP`](https://stanfordnlp.github.io/CoreNLP/) instead of NLTK for that. The parsers of NLTK are slow and outdated which made them unsuitable for practical situations.\n",
        "\n",
        "In the following you have an example of usage of Spacy for dependency parsing, applied to a specific tasks"
      ]
    },
    {
      "cell_type": "markdown",
      "metadata": {
        "id": "Hx0i4nKSu1_d"
      },
      "source": [
        "Firstly, you need to load `spacy` with the desired language, English in this case"
      ]
    },
    {
      "cell_type": "code",
      "metadata": {
        "id": "bXHuIzbeu1_d",
        "outputId": "25f3ef8d-f61b-4eb3-eb0a-3c5c9633e489",
        "colab": {
          "base_uri": "https://localhost:8080/"
        }
      },
      "source": [
        "import spacy\n",
        "\n",
        "# Import the English model\n",
        "nlp = spacy.load('en_core_web_sm')"
      ],
      "execution_count": null,
      "outputs": [
        {
          "output_type": "stream",
          "text": [
            "/usr/local/lib/python3.7/dist-packages/spacy/util.py:275: UserWarning: [W031] Model 'en_core_web_sm' (2.2.0) requires spaCy v2.2 and is incompatible with the current spaCy version (2.3.5). This may lead to unexpected results or runtime errors. To resolve this, download a newer compatible model or retrain your custom model with the current spaCy version. For more details and available updates, run: python -m spacy validate\n",
            "  warnings.warn(warn_msg)\n"
          ],
          "name": "stderr"
        }
      ]
    },
    {
      "cell_type": "markdown",
      "metadata": {
        "id": "YMJ5w0f9u1_d"
      },
      "source": [
        "Now we can use the spacy object (`nlp`) to perform the desired language annotations to our sentences"
      ]
    },
    {
      "cell_type": "code",
      "metadata": {
        "id": "kVd6a3J2u1_e"
      },
      "source": [
        "sent = \"I shot an elephant\"\n",
        "doc=nlp(sent)"
      ],
      "execution_count": null,
      "outputs": []
    },
    {
      "cell_type": "markdown",
      "metadata": {
        "id": "1-vrBxFiu1_e"
      },
      "source": [
        "The doc object now contains the text plus all the annotations"
      ]
    },
    {
      "cell_type": "code",
      "metadata": {
        "id": "KPcGeh1Mu1_e",
        "outputId": "512c171f-46b9-4953-cdcf-679f17be5286",
        "colab": {
          "base_uri": "https://localhost:8080/"
        }
      },
      "source": [
        "print(\"Tokens:\", [t.text for t in doc])\n",
        "print(\"Lemmas:\", [t.lemma_ for t in doc])\n",
        "print(\"POS Tagging:\", [t.pos_ for t in doc])\n",
        "print(\"Parsing:\", [t.dep_ for t in doc])"
      ],
      "execution_count": null,
      "outputs": [
        {
          "output_type": "stream",
          "text": [
            "Tokens: ['I', 'shot', 'an', 'elephant']\n",
            "Lemmas: ['-PRON-', 'shoot', 'an', 'elephant']\n",
            "POS Tagging: ['PRON', 'VERB', 'DET', 'NOUN']\n",
            "Parsing: ['nsubj', 'ROOT', 'det', 'dobj']\n"
          ],
          "name": "stdout"
        }
      ]
    },
    {
      "cell_type": "markdown",
      "metadata": {
        "id": "BwJtJbJhu1_e"
      },
      "source": [
        "We could use the dependency parsing annotations to identify different parts of the sentences."
      ]
    },
    {
      "cell_type": "code",
      "metadata": {
        "id": "gl8mVfBbu1_f",
        "outputId": "70498e3d-0a6a-4017-a682-f66a332f95d8",
        "colab": {
          "base_uri": "https://localhost:8080/"
        }
      },
      "source": [
        "print(\"Subject:\", [tok for tok in doc if (tok.dep_ == \"nsubj\") ])\n",
        "print(\"Verb:\", [tok for tok in doc if (tok.dep_ == \"ROOT\") ])\n",
        "print(\"Object:\", [tok for tok in doc if (\"obj\" in tok.dep_ ) ])"
      ],
      "execution_count": null,
      "outputs": [
        {
          "output_type": "stream",
          "text": [
            "Subject: [I]\n",
            "Verb: [shot]\n",
            "Object: [elephant]\n"
          ],
          "name": "stdout"
        }
      ]
    },
    {
      "cell_type": "markdown",
      "metadata": {
        "id": "QcYXuXYMu1_f"
      },
      "source": [
        "Let's use it to see what are the objects preferred by Truman in his speech."
      ]
    },
    {
      "cell_type": "code",
      "metadata": {
        "scrolled": true,
        "id": "in_ygeNYu1_f",
        "outputId": "a5ef2308-736f-49e3-9390-3e0bb65639d9",
        "colab": {
          "base_uri": "https://localhost:8080/"
        }
      },
      "source": [
        "import nltk\n",
        "nltk.download('state_union')\n",
        "\n",
        "from nltk.corpus import state_union\n",
        "from collections import Counter\n",
        "\n",
        "text = state_union.raw(\"1946-Truman.txt\")\n",
        "\n",
        "def detect_most_common_objects(corpus_text, n_verbs = 10):\n",
        "    verbs = []\n",
        "    for sentence in nltk.sent_tokenize(corpus_text):\n",
        "        doc = nlp(sentence)\n",
        "        for tok in doc:\n",
        "            if (\"obj\" in tok.dep_):\n",
        "                verbs.append(tok.lemma_)\n",
        "    return Counter(verbs).most_common(n_verbs)\n",
        "\n",
        "detect_most_common_objects(text, 50)"
      ],
      "execution_count": null,
      "outputs": [
        {
          "output_type": "stream",
          "text": [
            "[nltk_data] Downloading package state_union to /root/nltk_data...\n",
            "[nltk_data]   Unzipping corpora/state_union.zip.\n"
          ],
          "name": "stderr"
        },
        {
          "output_type": "execute_result",
          "data": {
            "text/plain": [
              "[('year', 188),\n",
              " ('dollar', 156),\n",
              " ('-PRON-', 101),\n",
              " ('program', 80),\n",
              " ('war', 77),\n",
              " ('which', 64),\n",
              " ('expenditure', 50),\n",
              " ('time', 45),\n",
              " ('government', 43),\n",
              " ('Congress', 35),\n",
              " ('production', 35),\n",
              " ('States', 34),\n",
              " ('period', 33),\n",
              " ('level', 32),\n",
              " ('people', 32),\n",
              " ('economy', 31),\n",
              " ('policy', 29),\n",
              " ('Government', 28),\n",
              " ('service', 28),\n",
              " ('legislation', 28),\n",
              " ('country', 26),\n",
              " ('month', 26),\n",
              " ('force', 25),\n",
              " ('world', 25),\n",
              " ('price', 25),\n",
              " ('increase', 24),\n",
              " ('opportunity', 23),\n",
              " ('Administration', 23),\n",
              " ('appropriation', 23),\n",
              " ('control', 22),\n",
              " ('business', 22),\n",
              " ('peace', 22),\n",
              " ('income', 22),\n",
              " ('responsibility', 21),\n",
              " ('purpose', 21),\n",
              " ('June', 21),\n",
              " ('rate', 21),\n",
              " ('power', 20),\n",
              " ('system', 19),\n",
              " ('future', 19),\n",
              " ('end', 19),\n",
              " ('development', 19),\n",
              " ('September', 19),\n",
              " ('Act', 19),\n",
              " ('worker', 19),\n",
              " ('activity', 18),\n",
              " ('objective', 18),\n",
              " ('nation', 18),\n",
              " ('veteran', 18),\n",
              " ('addition', 18)]"
            ]
          },
          "metadata": {
            "tags": []
          },
          "execution_count": 21
        }
      ]
    }
  ]
}