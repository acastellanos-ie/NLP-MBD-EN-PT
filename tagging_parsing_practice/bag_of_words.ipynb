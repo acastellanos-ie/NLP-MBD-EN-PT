{
  "nbformat": 4,
  "nbformat_minor": 0,
  "metadata": {
    "kernelspec": {
      "display_name": "Python 3",
      "language": "python",
      "name": "python3"
    },
    "language_info": {
      "codemirror_mode": {
        "name": "ipython",
        "version": 3
      },
      "file_extension": ".py",
      "mimetype": "text/x-python",
      "name": "python",
      "nbconvert_exporter": "python",
      "pygments_lexer": "ipython3",
      "version": "3.8.5"
    },
    "colab": {
      "name": "bag_of_words.ipynb",
      "provenance": [],
      "include_colab_link": true
    }
  },
  "cells": [
    {
      "cell_type": "markdown",
      "metadata": {
        "id": "view-in-github",
        "colab_type": "text"
      },
      "source": [
        "<a href=\"https://colab.research.google.com/github/acastellanos-ie/NLP-MBD-EN-PT/blob/main/tagging_parsing_practice/bag_of_words.ipynb\" target=\"_parent\"><img src=\"https://colab.research.google.com/assets/colab-badge.svg\" alt=\"Open In Colab\"/></a>"
      ]
    },
    {
      "cell_type": "markdown",
      "metadata": {
        "id": "LCvwbQnTvBRh"
      },
      "source": [
        "# Google Colab Configuration\n",
        "\n",
        "**Execute this steps to configure the Google Colab environment in order to execute this notebook. It is not required if you are executing it locally and you have properly configured your local environment according to what explained in the Github Repository.**\n",
        "\n",
        "The first step is to clone the repository to have access to all the data and files"
      ]
    },
    {
      "cell_type": "code",
      "source": [
        "repository_name = \"NLP-MBD-EN-PT\"\n",
        "repository_url = 'https://github.com/acastellanos-ie/' + repository_name"
      ],
      "metadata": {
        "id": "gakj_n0h70ox"
      },
      "execution_count": 1,
      "outputs": []
    },
    {
      "cell_type": "code",
      "metadata": {
        "id": "3d7mC64KvlwP",
        "outputId": "7b56a4e8-2dad-4a79-cd27-7a531481ee6c",
        "colab": {
          "base_uri": "https://localhost:8080/"
        }
      },
      "source": [
        "! git clone $repository_url"
      ],
      "execution_count": 2,
      "outputs": [
        {
          "output_type": "stream",
          "name": "stdout",
          "text": [
            "Cloning into 'NLP-MBD-EN-PT'...\n",
            "remote: Enumerating objects: 4452, done.\u001b[K\n",
            "remote: Counting objects: 100% (112/112), done.\u001b[K\n",
            "remote: Compressing objects: 100% (108/108), done.\u001b[K\n",
            "remote: Total 4452 (delta 71), reused 7 (delta 3), pack-reused 4340\u001b[K\n",
            "Receiving objects: 100% (4452/4452), 14.38 MiB | 20.68 MiB/s, done.\n",
            "Resolving deltas: 100% (172/172), done.\n"
          ]
        }
      ]
    },
    {
      "cell_type": "markdown",
      "metadata": {
        "id": "Ecfec2Y4v6e9"
      },
      "source": [
        "Install the requirements"
      ]
    },
    {
      "cell_type": "code",
      "metadata": {
        "id": "DIep7l0jvtUB",
        "outputId": "4ac4771f-1bd5-4cc8-dd64-c297e6adbed1",
        "colab": {
          "base_uri": "https://localhost:8080/"
        }
      },
      "source": [
        "! pip install -Uqqr $repository_name/requirements.txt"
      ],
      "execution_count": null,
      "outputs": [
        {
          "output_type": "stream",
          "name": "stdout",
          "text": [
            "\u001b[2K     \u001b[90m━━━━━━━━━━━━━━━━━━━━━━━━━━━━━━━━━━━━━━━━\u001b[0m \u001b[32m12.0/12.0 MB\u001b[0m \u001b[31m26.8 MB/s\u001b[0m eta \u001b[36m0:00:00\u001b[0m\n",
            "\u001b[?25h  Preparing metadata (setup.py) ... \u001b[?25l\u001b[?25hdone\n"
          ]
        }
      ]
    },
    {
      "cell_type": "markdown",
      "metadata": {
        "id": "JHDzMQwpyODo"
      },
      "source": [
        "Now you have everything you need to execute the code in Colab"
      ]
    },
    {
      "cell_type": "markdown",
      "metadata": {
        "id": "HeGC-Qg3sK8Y"
      },
      "source": [
        "# Bag-of-words"
      ]
    },
    {
      "cell_type": "code",
      "metadata": {
        "id": "r_8zOo4gsK8f",
        "colab": {
          "base_uri": "https://localhost:8080/"
        },
        "outputId": "1fb851ee-be89-4f1d-aca0-e42004a3ca72"
      },
      "source": [
        "import nltk\n",
        "nltk.download('shakespeare')\n",
        "nltk.download('stopwords')\n",
        "\n",
        "from sklearn.feature_extraction.text import CountVectorizer, TfidfVectorizer\n",
        "import pandas as pd\n",
        "import numpy as np"
      ],
      "execution_count": null,
      "outputs": [
        {
          "output_type": "stream",
          "text": [
            "[nltk_data] Downloading package shakespeare to /root/nltk_data...\n",
            "[nltk_data]   Unzipping corpora/shakespeare.zip.\n",
            "[nltk_data] Downloading package stopwords to /root/nltk_data...\n",
            "[nltk_data]   Unzipping corpora/stopwords.zip.\n"
          ],
          "name": "stderr"
        }
      ]
    },
    {
      "cell_type": "markdown",
      "metadata": {
        "id": "onkwLfBQsK8g"
      },
      "source": [
        "The `nltk` library includes several corpus for experimentation. In this markdown we are going to make use of the corpus including the set of Shakespeare's plays.\n",
        "\n",
        "In the following cell, I will load the corpus and create a dataframe with the name of the book and the textual content."
      ]
    },
    {
      "cell_type": "code",
      "metadata": {
        "id": "pFhGK1uasK8h",
        "colab": {
          "base_uri": "https://localhost:8080/"
        },
        "outputId": "f23b209c-859f-4cae-aa0b-65202db6add0"
      },
      "source": [
        "shakespeare_df = pd.DataFrame(columns=[\"book\", \"words\"])\n",
        "for ii, book in enumerate(nltk.corpus.shakespeare.fileids()):\n",
        "    shakespeare_df.loc[ii] = (book, \" \".join(nltk.corpus.shakespeare.words(book)))\n",
        "print(shakespeare_df)"
      ],
      "execution_count": null,
      "outputs": [
        {
          "output_type": "stream",
          "text": [
            "           book                                              words\n",
            "0   a_and_c.xml  The Tragedy of Antony and Cleopatra Dramatis P...\n",
            "1     dream.xml  A Midsummer Night ' s Dream Dramatis Personae ...\n",
            "2    hamlet.xml  The Tragedy of Hamlet , Prince of Denmark Dram...\n",
            "3  j_caesar.xml  The Tragedy of Julius Caesar Dramatis Personae...\n",
            "4   macbeth.xml  The Tragedy of Macbeth Dramatis Personae DUNCA...\n",
            "5  merchant.xml  The Merchant of Venice Dramatis Personae The D...\n",
            "6   othello.xml  The Tragedy of Othello , the Moor of Venice Dr...\n",
            "7   r_and_j.xml  The Tragedy of Romeo and Juliet Text placed in...\n"
          ],
          "name": "stdout"
        }
      ]
    },
    {
      "cell_type": "markdown",
      "metadata": {
        "id": "0xgnNtVnsK8i"
      },
      "source": [
        "While this representation can be useful for humans, it is of no use if you want to use these data for an NLP system.\n",
        "\n",
        "As we discussed in class, we need to create the document-term matrix which will be the input for any NLP system we need to create on top of it. In the document term matrix we have a row for each one of the different documents (the Shakespeare's plays) and a column for each one of the words in the dataset. At each cell, you will find the weight of the word in the document (for example, how many times does the word appear in the document).\n",
        "\n",
        "In class we presented several weighting approaches, let's see how we can create them."
      ]
    },
    {
      "cell_type": "markdown",
      "metadata": {
        "id": "XdJiO9XvsK8i"
      },
      "source": [
        "Let's start with the simplest one: The Binary weighting. Binary weighting only defines if a word appears (1) or does not appear (0) in a document"
      ]
    },
    {
      "cell_type": "code",
      "metadata": {
        "id": "Jg_NgZWysK8j",
        "colab": {
          "base_uri": "https://localhost:8080/"
        },
        "outputId": "b10aa454-9623-4ae3-d8a3-187d83da3a2f"
      },
      "source": [
        "binary_weighting = CountVectorizer(binary=True)\n",
        "binary_shakespeare = binary_weighting.fit_transform(shakespeare_df.words)\n",
        "binary_dt_matrix = pd.DataFrame(binary_shakespeare.A, columns=binary_weighting.get_feature_names())\n",
        "print(binary_dt_matrix)"
      ],
      "execution_count": null,
      "outputs": [
        {
          "output_type": "stream",
          "text": [
            "   1992  1996  1998  1999  abandon  ...  youthful  youths  zeal  zone  zounds\n",
            "0     0     0     0     0        0  ...         0       0     0     0       0\n",
            "1     0     0     0     0        0  ...         0       0     0     0       0\n",
            "2     0     0     0     0        0  ...         0       0     0     1       0\n",
            "3     0     0     0     0        0  ...         1       1     0     0       0\n",
            "4     0     0     0     0        0  ...         0       1     0     0       0\n",
            "5     0     0     0     0        0  ...         1       0     1     0       0\n",
            "6     0     0     0     0        1  ...         0       0     0     0       1\n",
            "7     1     1     1     1        0  ...         1       0     0     0       1\n",
            "\n",
            "[8 rows x 11316 columns]\n"
          ],
          "name": "stdout"
        }
      ]
    },
    {
      "cell_type": "markdown",
      "metadata": {
        "id": "KmEaF25isK8j"
      },
      "source": [
        "Let's inspect the most and least important terms related to the document 6 (Othello)"
      ]
    },
    {
      "cell_type": "code",
      "metadata": {
        "id": "VDXuF1qasK8k",
        "colab": {
          "base_uri": "https://localhost:8080/"
        },
        "outputId": "19faff24-776d-497f-d08b-c846193e5ae2"
      },
      "source": [
        "document = 6\n",
        "print(\"25 most important terms for document\", shakespeare_df.iloc[document]['book'])\n",
        "print(binary_dt_matrix.iloc[:, np.argsort(binary_dt_matrix.loc[document])[::-1]].iloc[document][:25])\n",
        "\n",
        "print(\"25 least important terms for document\", shakespeare_df.iloc[document]['book'])\n",
        "print(binary_dt_matrix.iloc[:, np.argsort(binary_dt_matrix.loc[document])[::-1]].iloc[document][-25:])\n",
        "\n"
      ],
      "execution_count": null,
      "outputs": [
        {
          "output_type": "stream",
          "text": [
            "25 most important terms for document othello.xml\n",
            "zounds         1\n",
            "practiser      1\n",
            "potent         1\n",
            "potential      1\n",
            "determined     1\n",
            "determine      1\n",
            "potting        1\n",
            "pottle         1\n",
            "pour           1\n",
            "determinate    1\n",
            "poverty        1\n",
            "destruction    1\n",
            "power          1\n",
            "powerful       1\n",
            "powers         1\n",
            "pox            1\n",
            "practise       1\n",
            "potations      1\n",
            "devesting      1\n",
            "device         1\n",
            "devotion       1\n",
            "portents       1\n",
            "dew            1\n",
            "devout         1\n",
            "position       1\n",
            "Name: 6, dtype: int64\n",
            "25 least important terms for document othello.xml\n",
            "outrage        0\n",
            "origin         0\n",
            "orient         0\n",
            "organs         0\n",
            "organ          0\n",
            "ore            0\n",
            "ordnance       0\n",
            "osier          0\n",
            "osric          0\n",
            "ossa           0\n",
            "ostent         0\n",
            "ostentation    0\n",
            "ostents        0\n",
            "ought          0\n",
            "ounce          0\n",
            "ourself        0\n",
            "ousel          0\n",
            "outbrave       0\n",
            "outbreak       0\n",
            "outcries       0\n",
            "outcry         0\n",
            "outface        0\n",
            "outlawry       0\n",
            "outlives       0\n",
            "1992           0\n",
            "Name: 6, dtype: int64\n"
          ],
          "name": "stdout"
        }
      ]
    },
    {
      "cell_type": "markdown",
      "metadata": {
        "id": "rKzkc_KysK8k"
      },
      "source": [
        "As you can see, the representation is not very useful as it is. By only telling us if a word appears or not in a document is not giving us a lot of information. **Can you think on a situation where this binary weighting can be sufficient?**\n",
        "\n",
        "The next thing to know will be whether the word appears only once or several times."
      ]
    },
    {
      "cell_type": "code",
      "metadata": {
        "id": "J7N3XRgdsK8l",
        "colab": {
          "base_uri": "https://localhost:8080/"
        },
        "outputId": "f479b242-a47f-4caf-ea32-47a33f670beb"
      },
      "source": [
        "tf_weighting = CountVectorizer()\n",
        "tf_shakespeare = tf_weighting.fit_transform(shakespeare_df.words)\n",
        "tf_dt_matrix = pd.DataFrame(tf_shakespeare.A, columns=tf_weighting.get_feature_names())\n",
        "print(tf_dt_matrix)"
      ],
      "execution_count": null,
      "outputs": [
        {
          "output_type": "stream",
          "text": [
            "   1992  1996  1998  1999  abandon  ...  youthful  youths  zeal  zone  zounds\n",
            "0     0     0     0     0        0  ...         0       0     0     0       0\n",
            "1     0     0     0     0        0  ...         0       0     0     0       0\n",
            "2     0     0     0     0        0  ...         0       0     0     1       0\n",
            "3     0     0     0     0        0  ...         1       1     0     0       0\n",
            "4     0     0     0     0        0  ...         0       1     0     0       0\n",
            "5     0     0     0     0        0  ...         1       0     1     0       0\n",
            "6     0     0     0     0        1  ...         0       0     0     0       3\n",
            "7     1     1     1     1        0  ...         3       0     0     0       2\n",
            "\n",
            "[8 rows x 11316 columns]\n"
          ],
          "name": "stdout"
        }
      ]
    },
    {
      "cell_type": "markdown",
      "metadata": {
        "id": "q0L566RDsK8m"
      },
      "source": [
        "Ok, now we have the words weighted according to how many times they appear in the document.\n",
        "\n",
        "Let's check now the most and least important words in Othello"
      ]
    },
    {
      "cell_type": "code",
      "metadata": {
        "id": "h1NAk703sK8m",
        "colab": {
          "base_uri": "https://localhost:8080/"
        },
        "outputId": "a77cacd3-bec3-4c84-afe7-9fbc9c8fa170"
      },
      "source": [
        "document = 6\n",
        "print(\"25 most important terms for document\", shakespeare_df.iloc[document]['book'])\n",
        "print(tf_dt_matrix.iloc[:, np.argsort(tf_dt_matrix.loc[document])[::-1]].iloc[document][:25])\n",
        "\n",
        "print(\"25 least important terms for document\", shakespeare_df.iloc[document]['book'])\n",
        "print(tf_dt_matrix.iloc[:, np.argsort(tf_dt_matrix.loc[document])[::-1]].iloc[document][-25:])"
      ],
      "execution_count": null,
      "outputs": [
        {
          "output_type": "stream",
          "text": [
            "25 most important terms for document othello.xml\n",
            "and          794\n",
            "the          761\n",
            "to           629\n",
            "you          486\n",
            "of           475\n",
            "my           416\n",
            "that         395\n",
            "iago         360\n",
            "in           341\n",
            "othello      336\n",
            "not          318\n",
            "it           317\n",
            "is           309\n",
            "me           281\n",
            "cassio       254\n",
            "he           246\n",
            "for          240\n",
            "desdemona    230\n",
            "be           226\n",
            "with         221\n",
            "but          221\n",
            "this         220\n",
            "do           219\n",
            "her          215\n",
            "have         207\n",
            "Name: 6, dtype: int64\n",
            "25 least important terms for document othello.xml\n",
            "outrage        0\n",
            "origin         0\n",
            "orient         0\n",
            "organs         0\n",
            "organ          0\n",
            "ore            0\n",
            "ordnance       0\n",
            "osier          0\n",
            "osric          0\n",
            "ossa           0\n",
            "ostent         0\n",
            "ostentation    0\n",
            "ostents        0\n",
            "ought          0\n",
            "ounce          0\n",
            "ourself        0\n",
            "ousel          0\n",
            "outbrave       0\n",
            "outbreak       0\n",
            "outcries       0\n",
            "outcry         0\n",
            "outface        0\n",
            "outlawry       0\n",
            "outlives       0\n",
            "1992           0\n",
            "Name: 6, dtype: int64\n"
          ],
          "name": "stdout"
        }
      ]
    },
    {
      "cell_type": "markdown",
      "metadata": {
        "id": "HFSHiEEGsK8n"
      },
      "source": [
        "**What problem do you see with the most important words? Are they really representative?**\n",
        "\n"
      ]
    },
    {
      "cell_type": "markdown",
      "metadata": {
        "id": "8CiGiYtasK8n"
      },
      "source": [
        "Let's check now how to create the TF-IDF weighting to see if we can improve this representation"
      ]
    },
    {
      "cell_type": "code",
      "metadata": {
        "id": "bAfISl2jsK8o",
        "colab": {
          "base_uri": "https://localhost:8080/"
        },
        "outputId": "0e56ad71-11cc-4001-8cc1-d338af82d15d"
      },
      "source": [
        "tf_idf_weighting = TfidfVectorizer()\n",
        "tf_idf_shakespeare = tf_idf_weighting.fit_transform(shakespeare_df.words)\n",
        "tf_idf_dt_matrix = pd.DataFrame(tf_idf_shakespeare.A, columns=tf_idf_weighting.get_feature_names())\n",
        "print(tf_idf_dt_matrix)"
      ],
      "execution_count": null,
      "outputs": [
        {
          "output_type": "stream",
          "text": [
            "       1992      1996      1998  ...      zeal      zone    zounds\n",
            "0  0.000000  0.000000  0.000000  ...  0.000000  0.000000  0.000000\n",
            "1  0.000000  0.000000  0.000000  ...  0.000000  0.000000  0.000000\n",
            "2  0.000000  0.000000  0.000000  ...  0.000000  0.000869  0.000000\n",
            "3  0.000000  0.000000  0.000000  ...  0.000000  0.000000  0.000000\n",
            "4  0.000000  0.000000  0.000000  ...  0.000000  0.000000  0.000000\n",
            "5  0.000000  0.000000  0.000000  ...  0.001329  0.000000  0.000000\n",
            "6  0.000000  0.000000  0.000000  ...  0.000000  0.000000  0.002445\n",
            "7  0.001163  0.001163  0.001163  ...  0.000000  0.000000  0.001950\n",
            "\n",
            "[8 rows x 11316 columns]\n"
          ],
          "name": "stdout"
        }
      ]
    },
    {
      "cell_type": "code",
      "metadata": {
        "id": "GEwT8UxAsK8o",
        "colab": {
          "base_uri": "https://localhost:8080/"
        },
        "outputId": "122963d2-a1cf-400e-f758-d1ace3e17244"
      },
      "source": [
        "document = 6\n",
        "print(\"25 most important terms for document\", shakespeare_df.iloc[document]['book'])\n",
        "print(tf_idf_dt_matrix.iloc[:, np.argsort(tf_idf_dt_matrix.loc[document])[::-1]].iloc[document][:25])\n",
        "\n",
        "print(\"25 least important terms for document\", shakespeare_df.iloc[document]['book'])\n",
        "print(tf_idf_dt_matrix.iloc[:, np.argsort(tf_idf_dt_matrix.loc[document])[::-1]].iloc[document][-25:])"
      ],
      "execution_count": null,
      "outputs": [
        {
          "output_type": "stream",
          "text": [
            "25 most important terms for document othello.xml\n",
            "iago         0.350125\n",
            "othello      0.326783\n",
            "and          0.308385\n",
            "the          0.295568\n",
            "cassio       0.247033\n",
            "to           0.244300\n",
            "desdemona    0.223691\n",
            "you          0.188760\n",
            "of           0.184487\n",
            "my           0.161572\n",
            "that         0.153416\n",
            "emilia       0.134215\n",
            "in           0.132442\n",
            "not          0.123509\n",
            "it           0.123121\n",
            "is           0.120014\n",
            "me           0.109139\n",
            "roderigo     0.101147\n",
            "he           0.095545\n",
            "for          0.093215\n",
            "be           0.087777\n",
            "but          0.085835\n",
            "with         0.085835\n",
            "this         0.085447\n",
            "do           0.085058\n",
            "Name: 6, dtype: float64\n",
            "25 least important terms for document othello.xml\n",
            "outrage        0.0\n",
            "origin         0.0\n",
            "orient         0.0\n",
            "organs         0.0\n",
            "organ          0.0\n",
            "ore            0.0\n",
            "ordnance       0.0\n",
            "osier          0.0\n",
            "osric          0.0\n",
            "ossa           0.0\n",
            "ostent         0.0\n",
            "ostentation    0.0\n",
            "ostents        0.0\n",
            "ought          0.0\n",
            "ounce          0.0\n",
            "ourself        0.0\n",
            "ousel          0.0\n",
            "outbrave       0.0\n",
            "outbreak       0.0\n",
            "outcries       0.0\n",
            "outcry         0.0\n",
            "outface        0.0\n",
            "outlawry       0.0\n",
            "outlives       0.0\n",
            "1992           0.0\n",
            "Name: 6, dtype: float64\n"
          ],
          "name": "stdout"
        }
      ]
    },
    {
      "cell_type": "markdown",
      "metadata": {
        "id": "HxSFxfWqsK8p"
      },
      "source": [
        "**What do you see now in the representation? Have we solved all the problems?**"
      ]
    },
    {
      "cell_type": "markdown",
      "metadata": {
        "id": "ZL1a-Y01sK8p"
      },
      "source": [
        "# StopWords\n",
        "\n",
        "In the previous section we have experimenting some problems related to stopwords, such as `and` or `of`. These words do not carry any meaning and are unlikely to provide any advantage for any subsequent NLP task and, therefore, we are safe to remove them.\n",
        "\n",
        "Let's see how to do it via NLTK.\n",
        "\n",
        "Since stopwords are language-dependant, NLTK provides a list for several languages."
      ]
    },
    {
      "cell_type": "code",
      "metadata": {
        "id": "fVxZRw4dsK8p",
        "colab": {
          "base_uri": "https://localhost:8080/"
        },
        "outputId": "bc157e18-de58-439e-f058-11c7c42a28e3"
      },
      "source": [
        "from nltk.corpus import stopwords\n",
        "print(\"Languages for which NLTK provides an stopword list:\", \", \".join(stopwords.fileids()))"
      ],
      "execution_count": null,
      "outputs": [
        {
          "output_type": "stream",
          "text": [
            "Languages for which NLTK provides an stopword list: arabic, azerbaijani, danish, dutch, english, finnish, french, german, greek, hungarian, indonesian, italian, kazakh, nepali, norwegian, portuguese, romanian, russian, slovene, spanish, swedish, tajik, turkish\n"
          ],
          "name": "stdout"
        }
      ]
    },
    {
      "cell_type": "markdown",
      "metadata": {
        "id": "bKl8SwQ8sK8q"
      },
      "source": [
        "We are just interested in the English stopword list"
      ]
    },
    {
      "cell_type": "code",
      "metadata": {
        "id": "qUeIICa1sK8q",
        "colab": {
          "base_uri": "https://localhost:8080/"
        },
        "outputId": "ab9bb30d-f86f-4d8c-dbe2-0ac37a6b40c4"
      },
      "source": [
        "print(\"Example of 25 English stopwords:\", \", \".join(stopwords.words(\"english\")[:25]))"
      ],
      "execution_count": null,
      "outputs": [
        {
          "output_type": "stream",
          "text": [
            "Example of 25 English stopwords: i, me, my, myself, we, our, ours, ourselves, you, you're, you've, you'll, you'd, your, yours, yourself, yourselves, he, him, his, himself, she, she's, her, hers\n"
          ],
          "name": "stdout"
        }
      ]
    },
    {
      "cell_type": "markdown",
      "metadata": {
        "id": "9zpkp2lisK8r"
      },
      "source": [
        "We can use this list to remove these words from our representation and create the document term matrix without them. Let's check."
      ]
    },
    {
      "cell_type": "code",
      "metadata": {
        "id": "a5XKr4U4sK8r",
        "colab": {
          "base_uri": "https://localhost:8080/"
        },
        "outputId": "80675f19-6e23-4f89-c99c-4dec3990db73"
      },
      "source": [
        "sw_free_tf_idf_weighting = TfidfVectorizer(stop_words='english')\n",
        "sw_free_tf_idf_shakespeare = sw_free_tf_idf_weighting.fit_transform(shakespeare_df.words)\n",
        "sw_free_tf_idf_dt_matrix = pd.DataFrame(sw_free_tf_idf_shakespeare.A, columns=sw_free_tf_idf_weighting.get_feature_names())\n",
        "print(sw_free_tf_idf_dt_matrix)"
      ],
      "execution_count": null,
      "outputs": [
        {
          "output_type": "stream",
          "text": [
            "       1992      1996      1998  ...      zeal      zone    zounds\n",
            "0  0.000000  0.000000  0.000000  ...  0.000000  0.000000  0.000000\n",
            "1  0.000000  0.000000  0.000000  ...  0.000000  0.000000  0.000000\n",
            "2  0.000000  0.000000  0.000000  ...  0.000000  0.001609  0.000000\n",
            "3  0.000000  0.000000  0.000000  ...  0.000000  0.000000  0.000000\n",
            "4  0.000000  0.000000  0.000000  ...  0.000000  0.000000  0.000000\n",
            "5  0.000000  0.000000  0.000000  ...  0.002945  0.000000  0.000000\n",
            "6  0.000000  0.000000  0.000000  ...  0.000000  0.000000  0.003787\n",
            "7  0.001902  0.001902  0.001902  ...  0.000000  0.000000  0.003189\n",
            "\n",
            "[8 rows x 11048 columns]\n"
          ],
          "name": "stdout"
        }
      ]
    },
    {
      "cell_type": "code",
      "metadata": {
        "id": "97woQ18ssK8r",
        "colab": {
          "base_uri": "https://localhost:8080/"
        },
        "outputId": "aabf6d6f-f422-46b7-b230-8a9ae5509ae3"
      },
      "source": [
        "document = 6\n",
        "print(\"25 most important terms for document\", shakespeare_df.iloc[document]['book'])\n",
        "print(sw_free_tf_idf_dt_matrix.iloc[:, np.argsort(sw_free_tf_idf_dt_matrix.loc[document])[::-1]].iloc[document][:25])\n",
        "\n",
        "print(\"25 least important terms for document\", shakespeare_df.iloc[document]['book'])\n",
        "print(sw_free_tf_idf_dt_matrix.iloc[:, np.argsort(sw_free_tf_idf_dt_matrix.loc[document])[::-1]].iloc[document][-25:])"
      ],
      "execution_count": null,
      "outputs": [
        {
          "output_type": "stream",
          "text": [
            "25 most important terms for document othello.xml\n",
            "iago            0.542255\n",
            "othello         0.506104\n",
            "cassio          0.382591\n",
            "desdemona       0.346441\n",
            "emilia          0.207864\n",
            "roderigo        0.156651\n",
            "thou            0.086619\n",
            "brabantio       0.070794\n",
            "lodovico        0.066276\n",
            "moor            0.064270\n",
            "venice          0.059331\n",
            "shall           0.058348\n",
            "good            0.055340\n",
            "montano         0.054225\n",
            "tis             0.051130\n",
            "come            0.050528\n",
            "let             0.049927\n",
            "lord            0.048723\n",
            "thy             0.047520\n",
            "love            0.046919\n",
            "ll              0.045716\n",
            "handkerchief    0.045188\n",
            "thee            0.045114\n",
            "know            0.043310\n",
            "bianca          0.042175\n",
            "Name: 6, dtype: float64\n",
            "25 least important terms for document othello.xml\n",
            "overhear        0.0\n",
            "outbreak        0.0\n",
            "outbrave        0.0\n",
            "ousel           0.0\n",
            "ourself         0.0\n",
            "ounce           0.0\n",
            "ought           0.0\n",
            "outrun          0.0\n",
            "outside         0.0\n",
            "outstare        0.0\n",
            "outstretched    0.0\n",
            "outstrike       0.0\n",
            "outswear        0.0\n",
            "outwardly       0.0\n",
            "outwork         0.0\n",
            "overbear        0.0\n",
            "overbold        0.0\n",
            "overborne       0.0\n",
            "overcame        0.0\n",
            "overcast        0.0\n",
            "overcharged     0.0\n",
            "overcome        0.0\n",
            "overdone        0.0\n",
            "overflown       0.0\n",
            "1992            0.0\n",
            "Name: 6, dtype: float64\n"
          ],
          "name": "stdout"
        }
      ]
    },
    {
      "cell_type": "markdown",
      "metadata": {
        "id": "F-lBaRWcsK8s"
      },
      "source": [
        "It's much better now, isn't it?"
      ]
    },
    {
      "cell_type": "markdown",
      "metadata": {
        "id": "Ou53w9tCsK8s"
      },
      "source": [
        "Try to play with the previous code, change the document to see how the different weightings affect their representation or to use a different corpus from the ones included in NLTK"
      ]
    }
  ]
}